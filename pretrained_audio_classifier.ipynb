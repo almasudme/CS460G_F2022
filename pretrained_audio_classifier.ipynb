{
  "nbformat": 4,
  "nbformat_minor": 0,
  "metadata": {
    "colab": {
      "provenance": [],
      "toc_visible": true
    },
    "kernelspec": {
      "name": "python3",
      "display_name": "Python 3"
    },
    "language_info": {
      "name": "python"
    }
  },
  "cells": [
    {
      "cell_type": "markdown",
      "source": [
        "## Importing all required Library"
      ],
      "metadata": {
        "id": "p2Y9z3oOf_MZ"
      }
    },
    {
      "cell_type": "code",
      "execution_count": 20,
      "metadata": {
        "id": "t-i75DhSdhUp"
      },
      "outputs": [],
      "source": [
        "import keras\n",
        "import pandas as pd\n",
        "import numpy as np\n",
        "import matplotlib.pyplot as plt\n",
        "import seaborn as sns\n",
        "\n",
        "\n",
        "from sklearn.preprocessing import StandardScaler, OneHotEncoder\n",
        "from sklearn.metrics import confusion_matrix, classification_report\n",
        "from sklearn.model_selection import train_test_split\n",
        "\n",
        "\n"
      ]
    },
    {
      "cell_type": "markdown",
      "source": [
        "##Loading Pretrainded CNN Model"
      ],
      "metadata": {
        "id": "tjgSVioCf7nk"
      }
    },
    {
      "cell_type": "code",
      "source": [
        "re_model = keras.models.load_model(\"pretrained_augmented.h5\")"
      ],
      "metadata": {
        "id": "c8d4E2p8f60K"
      },
      "execution_count": 21,
      "outputs": []
    },
    {
      "cell_type": "markdown",
      "source": [
        "## Load Preprocessed data"
      ],
      "metadata": {
        "id": "RXK3Dcs2gFh9"
      }
    },
    {
      "cell_type": "code",
      "source": [
        "Features = pd.read_pickle(\"aer_features_augmented.pkl\")"
      ],
      "metadata": {
        "id": "JiNQDypcgOul"
      },
      "execution_count": 22,
      "outputs": []
    },
    {
      "cell_type": "markdown",
      "source": [
        "## Prepare for testing"
      ],
      "metadata": {
        "id": "u8Z0ix4vgQrL"
      }
    },
    {
      "cell_type": "code",
      "source": [
        "\n",
        "X = Features.iloc[: ,:-1].values\n",
        "Y = Features['labels'].values\n",
        "# As this is a multiclass classification problem onehotencoding our Y.\n",
        "encoder = OneHotEncoder()\n",
        "Y = encoder.fit_transform(np.array(Y).reshape(-1,1)).toarray()\n",
        "# splitting data\n",
        "x_train, x_test, y_train, y_test = train_test_split(X, Y,test_size=0.95, random_state=0, shuffle=True)\n",
        "# scaling our data with sklearn's Standard scaler\n",
        "scaler = StandardScaler()\n",
        "x_train = scaler.fit_transform(x_train)\n",
        "x_test = scaler.transform(x_test)\n",
        "x_train.shape, y_train.shape, x_test.shape, y_test.shape\n",
        "# making our data compatible to model.\n",
        "x_train = np.expand_dims(x_train, axis=2)\n",
        "x_test = np.expand_dims(x_test, axis=2)\n",
        "x_train.shape, y_train.shape, x_test.shape, y_test.shape"
      ],
      "metadata": {
        "colab": {
          "base_uri": "https://localhost:8080/"
        },
        "id": "SCRTw4oUd33F",
        "outputId": "87d6c4ba-88c5-45b4-9aa8-648345acbf14"
      },
      "execution_count": 28,
      "outputs": [
        {
          "output_type": "execute_result",
          "data": {
            "text/plain": [
              "((90, 162, 1), (90, 5), (1722, 162, 1), (1722, 5))"
            ]
          },
          "metadata": {},
          "execution_count": 28
        }
      ]
    },
    {
      "cell_type": "markdown",
      "source": [
        "## Predict with pretrained Model"
      ],
      "metadata": {
        "id": "LtSF9CZCgW0R"
      }
    },
    {
      "cell_type": "code",
      "source": [
        "# predicting on test data.\n",
        "pred_test = re_model.predict(x_test)\n",
        "y_pred = encoder.inverse_transform(pred_test)\n",
        "\n",
        "y_test = encoder.inverse_transform(y_test)"
      ],
      "metadata": {
        "colab": {
          "base_uri": "https://localhost:8080/"
        },
        "id": "R31dE1QOeYNT",
        "outputId": "cd7e3e1f-9aa2-48a3-b498-4c680576c279"
      },
      "execution_count": 29,
      "outputs": [
        {
          "output_type": "stream",
          "name": "stdout",
          "text": [
            "54/54 [==============================] - 1s 27ms/step\n"
          ]
        }
      ]
    },
    {
      "cell_type": "code",
      "source": [
        "cm = confusion_matrix(y_test, y_pred)\n",
        "plt.figure(figsize = (12, 10))\n",
        "cm = pd.DataFrame(cm , index = [i for i in encoder.categories_] , columns = [i for i in encoder.categories_])\n",
        "sns.heatmap(cm, linecolor='white', cmap='Blues', linewidth=1, annot=True, fmt='')\n",
        "plt.title('Confusion Matrix', size=20)\n",
        "plt.xlabel('Predicted Labels', size=14)\n",
        "plt.ylabel('Actual Labels', size=14)\n",
        "plt.show()"
      ],
      "metadata": {
        "colab": {
          "base_uri": "https://localhost:8080/",
          "height": 591
        },
        "id": "g6umQCASeqdu",
        "outputId": "6f2ac3d7-1768-458f-cc23-9c7af68120ee"
      },
      "execution_count": 30,
      "outputs": [
        {
          "output_type": "display_data",
          "data": {
            "text/plain": [
              "<Figure size 864x720 with 2 Axes>"
            ],
            "image/png": "[encoded data removed]"
          },
          "metadata": {
            "needs_background": "light"
          }
        }
      ]
    },
    {
      "cell_type": "code",
      "source": [
        "print(classification_report(y_test, y_pred))"
      ],
      "metadata": {
        "colab": {
          "base_uri": "https://localhost:8080/"
        },
        "id": "CQ28BcqZfJiA",
        "outputId": "fb5e3628-5092-481d-fb0f-06c5d667e139"
      },
      "execution_count": 26,
      "outputs": [
        {
          "output_type": "stream",
          "name": "stdout",
          "text": [
            "              precision    recall  f1-score   support\n",
            "\n",
            "       anger       0.88      0.92      0.90       262\n",
            "     disgust       0.83      0.87      0.85       255\n",
            "        fear       0.85      0.81      0.83       245\n",
            "   happiness       0.86      0.82      0.84       251\n",
            "     sadness       0.95      0.93      0.94       256\n",
            "\n",
            "    accuracy                           0.87      1269\n",
            "   macro avg       0.87      0.87      0.87      1269\n",
            "weighted avg       0.87      0.87      0.87      1269\n",
            "\n"
          ]
        }
      ]
    },
    {
      "cell_type": "code",
      "source": [],
      "metadata": {
        "id": "7COG6fiafrX1"
      },
      "execution_count": 26,
      "outputs": []
    }
  ]
}